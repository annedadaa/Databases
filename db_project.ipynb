{
 "cells": [
  {
   "cell_type": "markdown",
   "id": "310a340c",
   "metadata": {},
   "source": [
    "## Финальный проект по базам данных"
   ]
  },
  {
   "cell_type": "markdown",
   "id": "2fc665a4",
   "metadata": {},
   "source": [
    "В учебных целях в качестве данных для базы данных я взяла данные о фильмах с https://www.kinopoisk.ru. Данные я выбирала с сайта вручную, ознакомиться с собранными данными можно ниже. При желании можно собрать краулером с сайта данные, а затем сразу положить в базу данных, убрав мусор. В учебных целях я собрала небольшой датасет сама (27 записей)."
   ]
  },
  {
   "cell_type": "code",
   "execution_count": 1,
   "id": "bd51df6b",
   "metadata": {},
   "outputs": [],
   "source": [
    "import pandas as pd"
   ]
  },
  {
   "cell_type": "code",
   "execution_count": 2,
   "id": "535ee924",
   "metadata": {},
   "outputs": [
    {
     "data": {
      "text/html": [
       "<div>\n",
       "<style scoped>\n",
       "    .dataframe tbody tr th:only-of-type {\n",
       "        vertical-align: middle;\n",
       "    }\n",
       "\n",
       "    .dataframe tbody tr th {\n",
       "        vertical-align: top;\n",
       "    }\n",
       "\n",
       "    .dataframe thead th {\n",
       "        text-align: right;\n",
       "    }\n",
       "</style>\n",
       "<table border=\"1\" class=\"dataframe\">\n",
       "  <thead>\n",
       "    <tr style=\"text-align: right;\">\n",
       "      <th></th>\n",
       "      <th>Режиссер</th>\n",
       "      <th>Фильм</th>\n",
       "      <th>Год</th>\n",
       "      <th>Описание</th>\n",
       "      <th>Страна</th>\n",
       "      <th>Рейтинг</th>\n",
       "    </tr>\n",
       "  </thead>\n",
       "  <tbody>\n",
       "    <tr>\n",
       "      <th>0</th>\n",
       "      <td>Ридли Скотт</td>\n",
       "      <td>Дом Gucci</td>\n",
       "      <td>2021</td>\n",
       "      <td>Фамилия Гуччи звучала так сладко, так соблазни...</td>\n",
       "      <td>Канада, США</td>\n",
       "      <td>6.9</td>\n",
       "    </tr>\n",
       "    <tr>\n",
       "      <th>1</th>\n",
       "      <td>Ридли Скотт</td>\n",
       "      <td>Все деньги мира</td>\n",
       "      <td>2017</td>\n",
       "      <td>История одного из самых громких скандалов XX в...</td>\n",
       "      <td>США, Италия, Великобритания, Китай</td>\n",
       "      <td>6.8</td>\n",
       "    </tr>\n",
       "    <tr>\n",
       "      <th>2</th>\n",
       "      <td>Лана Вачовски</td>\n",
       "      <td>Матрица: Воскрешение</td>\n",
       "      <td>2021</td>\n",
       "      <td>В двух реальностях Нео снова придется выбирать...</td>\n",
       "      <td>США</td>\n",
       "      <td>7.0</td>\n",
       "    </tr>\n",
       "    <tr>\n",
       "      <th>3</th>\n",
       "      <td>Андрей Тарковский</td>\n",
       "      <td>Солярис</td>\n",
       "      <td>1972</td>\n",
       "      <td>На космическую станцию, сотрудники которой дав...</td>\n",
       "      <td>СССР</td>\n",
       "      <td>8.0</td>\n",
       "    </tr>\n",
       "    <tr>\n",
       "      <th>4</th>\n",
       "      <td>Андрей Тарковский</td>\n",
       "      <td>Сталкер</td>\n",
       "      <td>1979</td>\n",
       "      <td>В некой запретной Зоне, по слухам, существует ...</td>\n",
       "      <td>СССР</td>\n",
       "      <td>8.1</td>\n",
       "    </tr>\n",
       "  </tbody>\n",
       "</table>\n",
       "</div>"
      ],
      "text/plain": [
       "            Режиссер                 Фильм   Год  \\\n",
       "0        Ридли Скотт             Дом Gucci  2021   \n",
       "1        Ридли Скотт       Все деньги мира  2017   \n",
       "2      Лана Вачовски  Матрица: Воскрешение  2021   \n",
       "3  Андрей Тарковский               Солярис  1972   \n",
       "4  Андрей Тарковский               Сталкер  1979   \n",
       "\n",
       "                                            Описание  \\\n",
       "0  Фамилия Гуччи звучала так сладко, так соблазни...   \n",
       "1  История одного из самых громких скандалов XX в...   \n",
       "2  В двух реальностях Нео снова придется выбирать...   \n",
       "3  На космическую станцию, сотрудники которой дав...   \n",
       "4  В некой запретной Зоне, по слухам, существует ...   \n",
       "\n",
       "                               Страна  Рейтинг  \n",
       "0                         Канада, США      6.9  \n",
       "1  США, Италия, Великобритания, Китай      6.8  \n",
       "2                                 США      7.0  \n",
       "3                                СССР      8.0  \n",
       "4                                СССР      8.1  "
      ]
     },
     "execution_count": 2,
     "metadata": {},
     "output_type": "execute_result"
    }
   ],
   "source": [
    "df = pd.read_csv('movies.csv', sep = ',')\n",
    "df[:5]"
   ]
  },
  {
   "attachments": {
    "project_schema.png": {
     "image/png": "[encoded data removed]"
    }
   },
   "cell_type": "markdown",
   "id": "fbdb9ae5",
   "metadata": {},
   "source": [
    "### Схема базы данных\n",
    "![project_schema.png](attachment:project_schema.png)"
   ]
  },
  {
   "cell_type": "code",
   "execution_count": 3,
   "id": "015de989",
   "metadata": {},
   "outputs": [],
   "source": [
    "# !pip3 install mysql-connector-python"
   ]
  },
  {
   "cell_type": "code",
   "execution_count": 5,
   "id": "66fa4457",
   "metadata": {},
   "outputs": [],
   "source": [
    "import mysql.connector"
   ]
  },
  {
   "cell_type": "markdown",
   "id": "c82eb5df",
   "metadata": {},
   "source": [
    "Создадим пустую базу данных."
   ]
  },
  {
   "cell_type": "code",
   "execution_count": 8,
   "id": "76c0c12f",
   "metadata": {},
   "outputs": [],
   "source": [
    "con = mysql.connector.connect(host='127.0.0.1', port=33069, user='root', password='my-secret-pw')"
   ]
  },
  {
   "cell_type": "code",
   "execution_count": 9,
   "id": "d6929d58",
   "metadata": {},
   "outputs": [],
   "source": [
    "cur=con.cursor(dictionary=True)"
   ]
  },
  {
   "cell_type": "code",
   "execution_count": 10,
   "id": "415dccc7",
   "metadata": {},
   "outputs": [],
   "source": [
    "cur.execute(\"CREATE database project\")"
   ]
  },
  {
   "cell_type": "markdown",
   "id": "6f6c5e21",
   "metadata": {},
   "source": [
    "База данных готова! Теперь добавим в нее таблички из схемы и запишем наши данные."
   ]
  },
  {
   "cell_type": "code",
   "execution_count": 6,
   "id": "b0070116",
   "metadata": {},
   "outputs": [],
   "source": [
    "con = mysql.connector.connect(host='127.0.0.1', port=33069, database='project', user='root', password='my-secret-pw')"
   ]
  },
  {
   "cell_type": "code",
   "execution_count": 7,
   "id": "264fef3a",
   "metadata": {},
   "outputs": [],
   "source": [
    "cur=con.cursor(dictionary=True)"
   ]
  },
  {
   "cell_type": "markdown",
   "id": "b7e83110",
   "metadata": {},
   "source": [
    "### Таблица с фильмами"
   ]
  },
  {
   "cell_type": "code",
   "execution_count": 13,
   "id": "02ecfbe9",
   "metadata": {},
   "outputs": [],
   "source": [
    "cur.execute(\"\"\"CREATE TABLE films (\n",
    "  id_film INT NOT NULL AUTO_INCREMENT,\n",
    "  name VARCHAR(256) NOT NULL,\n",
    "  year INT NOT NULL,\n",
    "  description VARCHAR(1024) NULL,\n",
    "  rating FLOAT NULL,\n",
    "  PRIMARY KEY (id_film));\n",
    "\"\"\")"
   ]
  },
  {
   "cell_type": "code",
   "execution_count": 14,
   "id": "9679c02b",
   "metadata": {},
   "outputs": [
    {
     "name": "stdout",
     "output_type": "stream",
     "text": [
      "CPU times: user 12.6 ms, sys: 6.48 ms, total: 19.1 ms\n",
      "Wall time: 671 ms\n"
     ]
    }
   ],
   "source": [
    "%%time\n",
    "for film in range(0, len(df)):\n",
    "    id_film = film + 1\n",
    "    name_value = df['Фильм'][film]\n",
    "    year_value = df['Год'][film]\n",
    "    desc_value = df['Описание'][film]\n",
    "    rating_value = df['Рейтинг'][film]\n",
    "    try:\n",
    "        info = f\"INSERT INTO films (name, year, description, rating) VALUES ('{name_value}', '{year_value}', '{desc_value}', '{rating_value}')\"\n",
    "        cur.execute(info)\n",
    "    except:\n",
    "         print(\"Error - INSERT INTO films (name, year, description, rating) VALUES ('\"+name+\"', '\"+year+\"', '\"+desc+\"', '\"+rating+\"')\")\n",
    "    con.commit()"
   ]
  },
  {
   "cell_type": "markdown",
   "id": "65027924",
   "metadata": {},
   "source": [
    "### Таблица со странами"
   ]
  },
  {
   "cell_type": "code",
   "execution_count": 15,
   "id": "39c011e0",
   "metadata": {},
   "outputs": [],
   "source": [
    "cur.execute(\"\"\"CREATE TABLE countries (\n",
    "  id_country INT NOT NULL AUTO_INCREMENT,\n",
    "  name VARCHAR(45) NOT NULL,\n",
    "  PRIMARY KEY (id_country));\n",
    "\"\"\")"
   ]
  },
  {
   "cell_type": "code",
   "execution_count": 16,
   "id": "d844940b",
   "metadata": {},
   "outputs": [],
   "source": [
    "countries = []\n",
    "for i in df['Страна']:\n",
    "    for c in i.split(', '):\n",
    "        countries.append(c)\n",
    "unique_countries = set(countries)"
   ]
  },
  {
   "cell_type": "code",
   "execution_count": 17,
   "id": "53703dca",
   "metadata": {},
   "outputs": [
    {
     "name": "stdout",
     "output_type": "stream",
     "text": [
      "CPU times: user 6.2 ms, sys: 4.83 ms, total: 11 ms\n",
      "Wall time: 459 ms\n"
     ]
    }
   ],
   "source": [
    "%%time\n",
    "for country_value in unique_countries:\n",
    "    try:\n",
    "        info = f\"INSERT INTO countries (name) VALUES ('{country_value}')\"\n",
    "        cur.execute(info)\n",
    "    except:\n",
    "         print(\"Error - INSERT INTO countries (name) VALUES ('\"+country_value+\"')\")\n",
    "    con.commit()"
   ]
  },
  {
   "cell_type": "markdown",
   "id": "880eaa6c",
   "metadata": {},
   "source": [
    "### Таблица с режиссерами"
   ]
  },
  {
   "cell_type": "code",
   "execution_count": 18,
   "id": "d5141f5c",
   "metadata": {},
   "outputs": [],
   "source": [
    "cur.execute(\"\"\"CREATE TABLE directors (\n",
    "  id_director INT NOT NULL AUTO_INCREMENT,\n",
    "  name VARCHAR(45) NOT NULL,\n",
    "  PRIMARY KEY (id_director));\n",
    "\"\"\")"
   ]
  },
  {
   "cell_type": "code",
   "execution_count": 19,
   "id": "abb67dce",
   "metadata": {},
   "outputs": [],
   "source": [
    "directors = []\n",
    "for i in df['Режиссер']:\n",
    "    directors.append(i)\n",
    "unique_directors = set(directors)"
   ]
  },
  {
   "cell_type": "code",
   "execution_count": 20,
   "id": "48ef792d",
   "metadata": {},
   "outputs": [
    {
     "name": "stdout",
     "output_type": "stream",
     "text": [
      "CPU times: user 6.21 ms, sys: 4.48 ms, total: 10.7 ms\n",
      "Wall time: 509 ms\n"
     ]
    }
   ],
   "source": [
    "%%time\n",
    "for director_value in unique_directors:\n",
    "    try:\n",
    "        info = f\"INSERT INTO directors (name) VALUES ('{director_value}')\"\n",
    "        cur.execute(info)\n",
    "    except:\n",
    "         print(\"Error - INSERT INTO directors (name) VALUES ('\"+director_value+\"')\")\n",
    "    con.commit()"
   ]
  },
  {
   "cell_type": "markdown",
   "id": "ef040380",
   "metadata": {},
   "source": [
    "### Таблицы связей: film2country и director2film"
   ]
  },
  {
   "cell_type": "markdown",
   "id": "df3af5ed",
   "metadata": {},
   "source": [
    "Они нужны по той причине, что 1) одному фильму может соответствовать несколько стран и 2) одному режиссеру может соответствовать несколько фильмов"
   ]
  },
  {
   "cell_type": "code",
   "execution_count": 21,
   "id": "4d1061c2",
   "metadata": {},
   "outputs": [],
   "source": [
    "cur.execute(\"\"\"CREATE TABLE film2country (\n",
    "  id_film2country INT NOT NULL AUTO_INCREMENT,\n",
    "  id_film INT NOT NULL,\n",
    "  id_country INT NOT NULL,\n",
    "  PRIMARY KEY (id_film2country),\n",
    "  INDEX id_film1_idx (id_film ASC) VISIBLE,\n",
    "  INDEX id_country_idx (id_country ASC) VISIBLE,\n",
    "  CONSTRAINT id_film1\n",
    "    FOREIGN KEY (id_film)\n",
    "    REFERENCES films (id_film)\n",
    "    ON UPDATE CASCADE\n",
    "    ON DELETE CASCADE,\n",
    "  CONSTRAINT id_country\n",
    "    FOREIGN KEY (id_country)\n",
    "    REFERENCES countries (id_country)\n",
    "    ON UPDATE CASCADE\n",
    "    ON DELETE CASCADE);\n",
    "\"\"\")"
   ]
  },
  {
   "cell_type": "code",
   "execution_count": 22,
   "id": "77fe69e4",
   "metadata": {},
   "outputs": [],
   "source": [
    "ids_countries = {}\n",
    "for num, value in enumerate(unique_countries):\n",
    "    ids_countries[value]=num+1"
   ]
  },
  {
   "cell_type": "code",
   "execution_count": 23,
   "id": "1aec0c9f",
   "metadata": {},
   "outputs": [
    {
     "name": "stdout",
     "output_type": "stream",
     "text": [
      "CPU times: user 15.9 ms, sys: 9.48 ms, total: 25.4 ms\n",
      "Wall time: 1.55 s\n"
     ]
    }
   ],
   "source": [
    "%%time\n",
    "for num, i in enumerate(df['Страна']):\n",
    "    for c in i.split(', '):\n",
    "        film_values = num+1\n",
    "        country_value = ids_countries[c]\n",
    "        try:\n",
    "            info = f\"INSERT INTO film2country (id_film, id_country) VALUES ('{film_values}', '{country_value}')\"\n",
    "            cur.execute(info)\n",
    "        except:\n",
    "             print(\"Error - INSERT INTO film2country (id_film, id_country) VALUES ('\"+film_values+\"', '\"+country_value+\"')\")\n",
    "        con.commit()"
   ]
  },
  {
   "cell_type": "code",
   "execution_count": 24,
   "id": "f945f645",
   "metadata": {},
   "outputs": [],
   "source": [
    "cur.execute(\"\"\"CREATE TABLE director2film (\n",
    "  id_director2film INT NOT NULL AUTO_INCREMENT,\n",
    "  id_director INT NOT NULL,\n",
    "  id_film INT NOT NULL,\n",
    "  PRIMARY KEY (id_director2film),\n",
    "  INDEX id_director_idx (id_director ASC) VISIBLE,\n",
    "  INDEX id_film2_idx (id_film ASC) VISIBLE,\n",
    "  CONSTRAINT id_director\n",
    "    FOREIGN KEY (id_director)\n",
    "    REFERENCES project.directors (id_director)\n",
    "    ON UPDATE CASCADE\n",
    "    ON DELETE CASCADE,\n",
    "  CONSTRAINT id_film2\n",
    "    FOREIGN KEY (id_film)\n",
    "    REFERENCES films (id_film)\n",
    "    ON UPDATE CASCADE\n",
    "    ON DELETE CASCADE);\n",
    "\"\"\")"
   ]
  },
  {
   "cell_type": "code",
   "execution_count": 25,
   "id": "c53269b5",
   "metadata": {},
   "outputs": [],
   "source": [
    "ids_directors = {}\n",
    "for num, value in enumerate(unique_directors):\n",
    "    ids_directors[value]=num+1"
   ]
  },
  {
   "cell_type": "code",
   "execution_count": 26,
   "id": "5cbfaa0c",
   "metadata": {},
   "outputs": [],
   "source": [
    "for num, i in enumerate(df['Фильм']):\n",
    "    name = df['Режиссер'][num]\n",
    "    name_value = ids_directors[name]\n",
    "    film_value = num+1\n",
    "    try:\n",
    "        info = f\"INSERT INTO director2film (id_director, id_film) VALUES ('{name_value}', '{film_value}')\"\n",
    "        cur.execute(info)\n",
    "    except:\n",
    "        print(\"Error - INSERT INTO director2film (id_director, id_film) VALUES ('\"+name_value+\"', '\"+film_value+\"')\")\n",
    "    con.commit()"
   ]
  },
  {
   "cell_type": "markdown",
   "id": "76f2ab91",
   "metadata": {},
   "source": [
    "Посмотрим, что получилось:"
   ]
  },
  {
   "cell_type": "code",
   "execution_count": 8,
   "id": "cbb279aa",
   "metadata": {},
   "outputs": [
    {
     "data": {
      "text/plain": [
       "[{'id_film': 1,\n",
       "  'name': 'Дом Gucci',\n",
       "  'year': 2021,\n",
       "  'description': 'Фамилия Гуччи звучала так сладко, так соблазнительно. Синоним роскоши, стиля, власти. Но она же была их проклятьем. Шокирующая история любви, предательства, падения и мести, которая привела к жестокому убийству в одной из самых знаменитых модных империй мира.',\n",
       "  'rating': 6.9},\n",
       " {'id_film': 2,\n",
       "  'name': 'Все деньги мира',\n",
       "  'year': 2017,\n",
       "  'description': 'История одного из самых громких скандалов XX века. В Риме преступники в масках похищают внука Жана Пола Гетти — богатейшего человека мира, известного своей маниакальной скупостью. Ко всеобщему шоку Гетти отказывается платить выкуп, несмотря на все мольбы Гэйл, матери ребенка, которой никакие богатства не заменят сына. Время истекает, требования похитителей становятся жёстче, и единственной надеждой на спасение подростка становится Флетчер Чейс — сотрудник службы безопасности самого Гетти.',\n",
       "  'rating': 6.8},\n",
       " {'id_film': 3,\n",
       "  'name': 'Матрица: Воскрешение',\n",
       "  'year': 2021,\n",
       "  'description': 'В двух реальностях Нео снова придется выбирать, следовать ли за белым кроликом. Выбор, пусть и иллюзорный, все еще остается единственным путем в Матрицу или из нее, что более опасно, чем когда-либо.',\n",
       "  'rating': 7.0}]"
      ]
     },
     "execution_count": 8,
     "metadata": {},
     "output_type": "execute_result"
    }
   ],
   "source": [
    "cur.execute(\"SELECT * FROM films\")\n",
    "data=cur.fetchall()\n",
    "data[:3]"
   ]
  },
  {
   "cell_type": "code",
   "execution_count": 9,
   "id": "daf246b9",
   "metadata": {},
   "outputs": [
    {
     "data": {
      "text/plain": [
       "[{'id_director': 1, 'name': 'Роберт Земекис'},\n",
       " {'id_director': 2, 'name': 'Андрей Тарковский'},\n",
       " {'id_director': 3, 'name': 'Ларс фон Триер'}]"
      ]
     },
     "execution_count": 9,
     "metadata": {},
     "output_type": "execute_result"
    }
   ],
   "source": [
    "cur.execute(\"SELECT * FROM directors\")\n",
    "data=cur.fetchall()\n",
    "data[:3]"
   ]
  },
  {
   "cell_type": "code",
   "execution_count": 10,
   "id": "99537d8e",
   "metadata": {},
   "outputs": [
    {
     "data": {
      "text/plain": [
       "[{'id_director2film': 1, 'id_director': 18, 'id_film': 1},\n",
       " {'id_director2film': 2, 'id_director': 18, 'id_film': 2},\n",
       " {'id_director2film': 3, 'id_director': 9, 'id_film': 3}]"
      ]
     },
     "execution_count": 10,
     "metadata": {},
     "output_type": "execute_result"
    }
   ],
   "source": [
    "cur.execute(\"SELECT * FROM director2film\")\n",
    "data=cur.fetchall()\n",
    "data[:3]"
   ]
  },
  {
   "cell_type": "markdown",
   "id": "5a8a46f8",
   "metadata": {},
   "source": [
    "Попробуем удалить данные из таблицы films. Все данные по ней удалятся и из других таблиц, в которых есть какие-либо упоминания этого фильма (тк они связаны по fk)."
   ]
  },
  {
   "cell_type": "code",
   "execution_count": 13,
   "id": "23cf6538",
   "metadata": {},
   "outputs": [],
   "source": [
    "cur.execute(\"DELETE FROM project.films WHERE name = 'Солярис'\")\n",
    "con.commit()"
   ]
  },
  {
   "cell_type": "markdown",
   "id": "67b35eca",
   "metadata": {},
   "source": [
    "И изменим какую-нибудь запись."
   ]
  },
  {
   "cell_type": "code",
   "execution_count": 20,
   "id": "4019108e",
   "metadata": {},
   "outputs": [],
   "source": [
    "cur.execute(\"\"\"UPDATE project.films\n",
    "SET name = 'Последствия',\n",
    "year = '2019',\n",
    "description = 'Германия после Второй мировой войны. В стране беспорядок, разруха, голод. Главный герой — британский военный Льюис Морган, который назначен временным мэром Гамбурга. Ему предстоит восстанавливать город почти с нуля. Вместе с женой Льюис селится в роскошный особняк, где живет немецкий архитектор с эмоционально нестабильной дочерью. Смогут ли бывшие враги ужиться под одной крышей или желание отомстить будет сильнее?',\n",
    "rating = '6.4'\n",
    "WHERE id_film = '1';\"\"\")\n",
    "con.commit()"
   ]
  },
  {
   "cell_type": "markdown",
   "id": "daf00ef7",
   "metadata": {},
   "source": [
    "- Проблема: данные в таблице film2country не изменятся (фильму с таким айди все еще будут соответствовать\n",
    "страны того фильма, который был на его месте). \n",
    "- Комментарий: реальные данные, которые связаны с данными из других таблиц лучше не изменять таким образом.\n",
    "Логичнее удалить все данные по тому, что мы хотим заменить из всех таблиц, а затем добавить что-то новое \n",
    "во все нужные таблицы."
   ]
  },
  {
   "cell_type": "code",
   "execution_count": 21,
   "id": "12393bcd",
   "metadata": {},
   "outputs": [],
   "source": [
    "cur.execute(\"SELECT * FROM project.films\")\n",
    "data=cur.fetchall()"
   ]
  },
  {
   "cell_type": "code",
   "execution_count": 22,
   "id": "fb5b80a0",
   "metadata": {},
   "outputs": [
    {
     "data": {
      "text/html": [
       "<div>\n",
       "<style scoped>\n",
       "    .dataframe tbody tr th:only-of-type {\n",
       "        vertical-align: middle;\n",
       "    }\n",
       "\n",
       "    .dataframe tbody tr th {\n",
       "        vertical-align: top;\n",
       "    }\n",
       "\n",
       "    .dataframe thead th {\n",
       "        text-align: right;\n",
       "    }\n",
       "</style>\n",
       "<table border=\"1\" class=\"dataframe\">\n",
       "  <thead>\n",
       "    <tr style=\"text-align: right;\">\n",
       "      <th></th>\n",
       "      <th>id_film</th>\n",
       "      <th>name</th>\n",
       "      <th>year</th>\n",
       "      <th>description</th>\n",
       "      <th>rating</th>\n",
       "    </tr>\n",
       "  </thead>\n",
       "  <tbody>\n",
       "    <tr>\n",
       "      <th>0</th>\n",
       "      <td>1</td>\n",
       "      <td>Последствия</td>\n",
       "      <td>2019</td>\n",
       "      <td>Германия после Второй мировой войны. В стране ...</td>\n",
       "      <td>6.4</td>\n",
       "    </tr>\n",
       "    <tr>\n",
       "      <th>1</th>\n",
       "      <td>2</td>\n",
       "      <td>Все деньги мира</td>\n",
       "      <td>2017</td>\n",
       "      <td>История одного из самых громких скандалов XX в...</td>\n",
       "      <td>6.8</td>\n",
       "    </tr>\n",
       "    <tr>\n",
       "      <th>2</th>\n",
       "      <td>3</td>\n",
       "      <td>Матрица: Воскрешение</td>\n",
       "      <td>2021</td>\n",
       "      <td>В двух реальностях Нео снова придется выбирать...</td>\n",
       "      <td>7.0</td>\n",
       "    </tr>\n",
       "    <tr>\n",
       "      <th>3</th>\n",
       "      <td>5</td>\n",
       "      <td>Сталкер</td>\n",
       "      <td>1979</td>\n",
       "      <td>В некой запретной Зоне, по слухам, существует ...</td>\n",
       "      <td>8.1</td>\n",
       "    </tr>\n",
       "    <tr>\n",
       "      <th>4</th>\n",
       "      <td>6</td>\n",
       "      <td>Внутренняя империя</td>\n",
       "      <td>2006</td>\n",
       "      <td>Актеры Никки Грейс и Девон Берк приступают к с...</td>\n",
       "      <td>6.9</td>\n",
       "    </tr>\n",
       "  </tbody>\n",
       "</table>\n",
       "</div>"
      ],
      "text/plain": [
       "  id_film                  name  year  \\\n",
       "0       1           Последствия  2019   \n",
       "1       2       Все деньги мира  2017   \n",
       "2       3  Матрица: Воскрешение  2021   \n",
       "3       5               Сталкер  1979   \n",
       "4       6    Внутренняя империя  2006   \n",
       "\n",
       "                                         description  rating  \n",
       "0  Германия после Второй мировой войны. В стране ...     6.4  \n",
       "1  История одного из самых громких скандалов XX в...     6.8  \n",
       "2  В двух реальностях Нео снова придется выбирать...     7.0  \n",
       "3  В некой запретной Зоне, по слухам, существует ...     8.1  \n",
       "4  Актеры Никки Грейс и Девон Берк приступают к с...     6.9  "
      ]
     },
     "execution_count": 22,
     "metadata": {},
     "output_type": "execute_result"
    }
   ],
   "source": [
    "results = pd.DataFrame(columns=list(data[0].keys()))\n",
    "results = results.append(data[0:], ignore_index=True)\n",
    "results[:5]"
   ]
  },
  {
   "cell_type": "markdown",
   "id": "ba8632f5",
   "metadata": {},
   "source": [
    "Все записалось и то, что надо удалилось, попробуем выполнить запросы к базе данных."
   ]
  },
  {
   "cell_type": "markdown",
   "id": "97fedd01",
   "metadata": {},
   "source": [
    "### Примеры запросов\n",
    "5. SELECT с несколькими (от трех) таблицами в условии выборки (1 балл)\n",
    "6. Вложенные SELECT (2 балла)\n",
    "7. Запросы с JOIN (2 балла)\n",
    "8. Аггрегация, сортировки (2 балл)"
   ]
  },
  {
   "cell_type": "markdown",
   "id": "3edfd1ec",
   "metadata": {},
   "source": [
    "Выведем данные по фильмам, у которых рейтинг выше 8-ми, и их режиссеров. Чтобы вывести имена режиссеров, нам нужно обратиться к связывающей таблице director2film. Для удобства будем выводить результаты табличкой."
   ]
  },
  {
   "cell_type": "code",
   "execution_count": 32,
   "id": "ea0ea1c4",
   "metadata": {},
   "outputs": [
    {
     "data": {
      "text/plain": [
       "[{'name': 'Сталкер',\n",
       "  'director': 'Андрей Тарковский',\n",
       "  'description': 'В некой запретной Зоне, по слухам, существует комната, где исполняются самые заветные желания. К этой комнате отправляются модный Писатель и авторитетный Профессор — каждый по своим причинам, о которых предпочитают не говорить. А ведет их туда Сталкер — проводник по Зоне — то ли юродивый, то ли апостол новой веры.',\n",
       "  'rating': 8.1},\n",
       " {'name': 'Психо',\n",
       "  'director': 'Альфред Хичкок',\n",
       "  'description': 'Мэрион Крэйн недовольна романом с разведенным мужчиной, который уделяет ей внимание только наездами. Поэтому девушка крадет на работе крупную сумму и в спешке бежит из города. Мэрион останавливается на ночь в мотеле, которым управляет Норман Бейтс — юноша, страдающий от гнёта своей горячо любимой, но деспотичной матери.',\n",
       "  'rating': 8.5},\n",
       " {'name': 'Форрест Гамп',\n",
       "  'director': 'Роберт Земекис',\n",
       "  'description': 'Сидя на автобусной остановке, Форрест Гамп — не очень умный, но добрый и открытый парень — рассказывает случайным встречным историю своей необыкновенной жизни.\\nС самого малолетства он страдал от заболевания ног, и соседские хулиганы дразнили мальчика, и в один прекрасный день Форрест открыл в себе невероятные способности к бегу. Подруга детства Дженни всегда его поддерживала и защищала, но вскоре дороги их разошлись',\n",
       "  'rating': 8.8}]"
      ]
     },
     "execution_count": 32,
     "metadata": {},
     "output_type": "execute_result"
    }
   ],
   "source": [
    "cur.execute(\"\"\"SELECT films.name, directors.name director, films.description, films.rating\n",
    "FROM project.films, project.director2film, project.directors\n",
    "WHERE films.id_film = director2film.id_film\n",
    "AND directors.id_director = director2film.id_director\n",
    "AND films.rating > 8;\"\"\")\n",
    "data=cur.fetchall()\n",
    "data[:3]"
   ]
  },
  {
   "cell_type": "code",
   "execution_count": 33,
   "id": "11274300",
   "metadata": {},
   "outputs": [
    {
     "data": {
      "text/html": [
       "<div>\n",
       "<style scoped>\n",
       "    .dataframe tbody tr th:only-of-type {\n",
       "        vertical-align: middle;\n",
       "    }\n",
       "\n",
       "    .dataframe tbody tr th {\n",
       "        vertical-align: top;\n",
       "    }\n",
       "\n",
       "    .dataframe thead th {\n",
       "        text-align: right;\n",
       "    }\n",
       "</style>\n",
       "<table border=\"1\" class=\"dataframe\">\n",
       "  <thead>\n",
       "    <tr style=\"text-align: right;\">\n",
       "      <th></th>\n",
       "      <th>name</th>\n",
       "      <th>director</th>\n",
       "      <th>description</th>\n",
       "      <th>rating</th>\n",
       "    </tr>\n",
       "  </thead>\n",
       "  <tbody>\n",
       "    <tr>\n",
       "      <th>0</th>\n",
       "      <td>Сталкер</td>\n",
       "      <td>Андрей Тарковский</td>\n",
       "      <td>В некой запретной Зоне, по слухам, существует ...</td>\n",
       "      <td>8.1</td>\n",
       "    </tr>\n",
       "    <tr>\n",
       "      <th>1</th>\n",
       "      <td>Психо</td>\n",
       "      <td>Альфред Хичкок</td>\n",
       "      <td>Мэрион Крэйн недовольна романом с разведенным ...</td>\n",
       "      <td>8.5</td>\n",
       "    </tr>\n",
       "    <tr>\n",
       "      <th>2</th>\n",
       "      <td>Форрест Гамп</td>\n",
       "      <td>Роберт Земекис</td>\n",
       "      <td>Сидя на автобусной остановке, Форрест Гамп — н...</td>\n",
       "      <td>8.8</td>\n",
       "    </tr>\n",
       "    <tr>\n",
       "      <th>3</th>\n",
       "      <td>Криминальное чтиво</td>\n",
       "      <td>Квентин Тарантино</td>\n",
       "      <td>Двое бандитов Винсент Вега и Джулс Винфилд вед...</td>\n",
       "      <td>8.9</td>\n",
       "    </tr>\n",
       "    <tr>\n",
       "      <th>4</th>\n",
       "      <td>Персона</td>\n",
       "      <td>Ингмар Бергман</td>\n",
       "      <td>Знаменитая актриса внезапно перестает разговар...</td>\n",
       "      <td>8.1</td>\n",
       "    </tr>\n",
       "    <tr>\n",
       "      <th>5</th>\n",
       "      <td>Отель «Гранд Будапешт»</td>\n",
       "      <td>Уэс Андерсон</td>\n",
       "      <td>Фильм рассказывает об увлекательных приключени...</td>\n",
       "      <td>8.1</td>\n",
       "    </tr>\n",
       "    <tr>\n",
       "      <th>6</th>\n",
       "      <td>Париж, Техас</td>\n",
       "      <td>Вим Вендерс</td>\n",
       "      <td>Идущий ниоткуда Трэвис знает, что у него есть ...</td>\n",
       "      <td>8.1</td>\n",
       "    </tr>\n",
       "    <tr>\n",
       "      <th>7</th>\n",
       "      <td>Паразиты</td>\n",
       "      <td>Пон Джун-хо</td>\n",
       "      <td>Обычное корейское семейство Кимов жизнь не бал...</td>\n",
       "      <td>8.6</td>\n",
       "    </tr>\n",
       "    <tr>\n",
       "      <th>8</th>\n",
       "      <td>Амели</td>\n",
       "      <td>Жан-Пьер Жёне</td>\n",
       "      <td>Знаете ли вы, что все события, происходящие в ...</td>\n",
       "      <td>8.3</td>\n",
       "    </tr>\n",
       "    <tr>\n",
       "      <th>9</th>\n",
       "      <td>Красота по-американски</td>\n",
       "      <td>Сэм Мендес</td>\n",
       "      <td>Лестер Бернэм переживает кризис среднего возра...</td>\n",
       "      <td>8.3</td>\n",
       "    </tr>\n",
       "    <tr>\n",
       "      <th>10</th>\n",
       "      <td>Соль Земли</td>\n",
       "      <td>Вим Вендерс</td>\n",
       "      <td>Себастьян Сальгадо – величайший фотограф совре...</td>\n",
       "      <td>8.5</td>\n",
       "    </tr>\n",
       "  </tbody>\n",
       "</table>\n",
       "</div>"
      ],
      "text/plain": [
       "                       name           director  \\\n",
       "0                   Сталкер  Андрей Тарковский   \n",
       "1                     Психо     Альфред Хичкок   \n",
       "2              Форрест Гамп     Роберт Земекис   \n",
       "3        Криминальное чтиво  Квентин Тарантино   \n",
       "4                   Персона     Ингмар Бергман   \n",
       "5   Отель «Гранд Будапешт»        Уэс Андерсон   \n",
       "6              Париж, Техас        Вим Вендерс   \n",
       "7                  Паразиты        Пон Джун-хо   \n",
       "8                     Амели      Жан-Пьер Жёне   \n",
       "9   Красота по-американски          Сэм Мендес   \n",
       "10               Соль Земли        Вим Вендерс   \n",
       "\n",
       "                                          description  rating  \n",
       "0   В некой запретной Зоне, по слухам, существует ...     8.1  \n",
       "1   Мэрион Крэйн недовольна романом с разведенным ...     8.5  \n",
       "2   Сидя на автобусной остановке, Форрест Гамп — н...     8.8  \n",
       "3   Двое бандитов Винсент Вега и Джулс Винфилд вед...     8.9  \n",
       "4   Знаменитая актриса внезапно перестает разговар...     8.1  \n",
       "5   Фильм рассказывает об увлекательных приключени...     8.1  \n",
       "6   Идущий ниоткуда Трэвис знает, что у него есть ...     8.1  \n",
       "7   Обычное корейское семейство Кимов жизнь не бал...     8.6  \n",
       "8   Знаете ли вы, что все события, происходящие в ...     8.3  \n",
       "9   Лестер Бернэм переживает кризис среднего возра...     8.3  \n",
       "10  Себастьян Сальгадо – величайший фотограф совре...     8.5  "
      ]
     },
     "execution_count": 33,
     "metadata": {},
     "output_type": "execute_result"
    }
   ],
   "source": [
    "results = pd.DataFrame(columns=list(data[0].keys()))\n",
    "results = results.append(data[0:], ignore_index=True)\n",
    "results"
   ]
  },
  {
   "cell_type": "markdown",
   "id": "7e632ac6",
   "metadata": {},
   "source": [
    "Сделаем то же самое, но с JOIN, добавим условие на год фильма и количество слов в описании."
   ]
  },
  {
   "cell_type": "code",
   "execution_count": 36,
   "id": "e2e7be07",
   "metadata": {},
   "outputs": [
    {
     "data": {
      "text/plain": [
       "[{'name': 'Паразиты',\n",
       "  'director': 'Пон Джун-хо',\n",
       "  'year': 2019,\n",
       "  'description': 'Обычное корейское семейство Кимов жизнь не балует. Приходится жить в сыром грязном полуподвале, воровать интернет у соседей и перебиваться случайными подработками. Однажды друг сына семейства, уезжая на стажировку за границу, предлагает тому заменить его и поработать репетитором у старшеклассницы в богатой семье Пак. Подделав диплом о высшем образовании, парень отправляется в шикарный дизайнерский особняк и производит на хозяйку дома хорошее впечатление. Тут же ему в голову приходит необычный план по трудоустройству сестры.',\n",
       "  'rating': 8.6,\n",
       "  'len_desc': 72},\n",
       " {'name': 'Амели',\n",
       "  'director': 'Жан-Пьер Жёне',\n",
       "  'year': 2001,\n",
       "  'description': 'Знаете ли вы, что все события, происходящие в нашем мире, даже самые незначительные, взаимосвязаны самым удивительным и чудесным образом?\\nКак полет крошечной мухи может вызвать где-то далеко мощный ураган, так и странные и, на первый взгляд, непонятные поступки тихой и одинокой девушки, живущей в мире своих фантазий, могут навсегда изменить жизнь совершенно разных людей, подарив им счастье и раскрасив окружающий мир яркими красками. Эту девушку зовут Амели Пулен.',\n",
       "  'rating': 8.3,\n",
       "  'len_desc': 67},\n",
       " {'name': 'Красота по-американски ',\n",
       "  'director': 'Сэм Мендес',\n",
       "  'year': 1999,\n",
       "  'description': 'Лестер Бернэм переживает кризис среднего возраста. Его не уважают и не ценят на работе, а от счастливой семьи осталась лишь видимость. У жены Кэролайн страстный роман с коллегой по работе, а угрюмая дочь-подросток Джейн увлечена соседским парнем, побывавшим в психиатрической больнице.\\nТерзаемый душевными муками Лестер впадает в депрессию. Но неожиданно для себя влюбляется в одноклассницу дочери Анджелу, и эта страсть дает Лестеру мощный жизненный импульс. Он ощущает прилив сил и желаний и готов снова радоваться красоте.',\n",
       "  'rating': 8.3,\n",
       "  'len_desc': 75}]"
      ]
     },
     "execution_count": 36,
     "metadata": {},
     "output_type": "execute_result"
    }
   ],
   "source": [
    "cur.execute(\"\"\"SELECT films.name, directors.name director, year, description, rating, LENGTH(TRIM(films.description)) - LENGTH(REPLACE(TRIM(films.description), ' ', '')) + 1 len_desc\n",
    "FROM project.director2film\n",
    "JOIN project.directors ON director2film.id_director=directors.id_director\n",
    "JOIN project.films ON director2film.id_film=films.id_film\n",
    "WHERE films.rating > 8 \n",
    "AND year > 1990\n",
    "AND LENGTH(TRIM(films.description)) - LENGTH(REPLACE(TRIM(films.description), ' ', '')) + 1 > 50\n",
    "ORDER BY year DESC;\"\"\")\n",
    "data=cur.fetchall()\n",
    "data[:3]"
   ]
  },
  {
   "cell_type": "code",
   "execution_count": 37,
   "id": "a72fabda",
   "metadata": {},
   "outputs": [
    {
     "data": {
      "text/html": [
       "<div>\n",
       "<style scoped>\n",
       "    .dataframe tbody tr th:only-of-type {\n",
       "        vertical-align: middle;\n",
       "    }\n",
       "\n",
       "    .dataframe tbody tr th {\n",
       "        vertical-align: top;\n",
       "    }\n",
       "\n",
       "    .dataframe thead th {\n",
       "        text-align: right;\n",
       "    }\n",
       "</style>\n",
       "<table border=\"1\" class=\"dataframe\">\n",
       "  <thead>\n",
       "    <tr style=\"text-align: right;\">\n",
       "      <th></th>\n",
       "      <th>name</th>\n",
       "      <th>director</th>\n",
       "      <th>year</th>\n",
       "      <th>description</th>\n",
       "      <th>rating</th>\n",
       "      <th>len_desc</th>\n",
       "    </tr>\n",
       "  </thead>\n",
       "  <tbody>\n",
       "    <tr>\n",
       "      <th>0</th>\n",
       "      <td>Паразиты</td>\n",
       "      <td>Пон Джун-хо</td>\n",
       "      <td>2019</td>\n",
       "      <td>Обычное корейское семейство Кимов жизнь не бал...</td>\n",
       "      <td>8.6</td>\n",
       "      <td>72</td>\n",
       "    </tr>\n",
       "    <tr>\n",
       "      <th>1</th>\n",
       "      <td>Амели</td>\n",
       "      <td>Жан-Пьер Жёне</td>\n",
       "      <td>2001</td>\n",
       "      <td>Знаете ли вы, что все события, происходящие в ...</td>\n",
       "      <td>8.3</td>\n",
       "      <td>67</td>\n",
       "    </tr>\n",
       "    <tr>\n",
       "      <th>2</th>\n",
       "      <td>Красота по-американски</td>\n",
       "      <td>Сэм Мендес</td>\n",
       "      <td>1999</td>\n",
       "      <td>Лестер Бернэм переживает кризис среднего возра...</td>\n",
       "      <td>8.3</td>\n",
       "      <td>75</td>\n",
       "    </tr>\n",
       "    <tr>\n",
       "      <th>3</th>\n",
       "      <td>Форрест Гамп</td>\n",
       "      <td>Роберт Земекис</td>\n",
       "      <td>1994</td>\n",
       "      <td>Сидя на автобусной остановке, Форрест Гамп — н...</td>\n",
       "      <td>8.8</td>\n",
       "      <td>61</td>\n",
       "    </tr>\n",
       "    <tr>\n",
       "      <th>4</th>\n",
       "      <td>Криминальное чтиво</td>\n",
       "      <td>Квентин Тарантино</td>\n",
       "      <td>1994</td>\n",
       "      <td>Двое бандитов Винсент Вега и Джулс Винфилд вед...</td>\n",
       "      <td>8.9</td>\n",
       "      <td>57</td>\n",
       "    </tr>\n",
       "  </tbody>\n",
       "</table>\n",
       "</div>"
      ],
      "text/plain": [
       "                      name           director  year  \\\n",
       "0                 Паразиты        Пон Джун-хо  2019   \n",
       "1                    Амели      Жан-Пьер Жёне  2001   \n",
       "2  Красота по-американски          Сэм Мендес  1999   \n",
       "3             Форрест Гамп     Роберт Земекис  1994   \n",
       "4       Криминальное чтиво  Квентин Тарантино  1994   \n",
       "\n",
       "                                         description  rating len_desc  \n",
       "0  Обычное корейское семейство Кимов жизнь не бал...     8.6       72  \n",
       "1  Знаете ли вы, что все события, происходящие в ...     8.3       67  \n",
       "2  Лестер Бернэм переживает кризис среднего возра...     8.3       75  \n",
       "3  Сидя на автобусной остановке, Форрест Гамп — н...     8.8       61  \n",
       "4  Двое бандитов Винсент Вега и Джулс Винфилд вед...     8.9       57  "
      ]
     },
     "execution_count": 37,
     "metadata": {},
     "output_type": "execute_result"
    }
   ],
   "source": [
    "results = pd.DataFrame(columns=list(data[0].keys()))\n",
    "results = results.append(data[0:], ignore_index=True)\n",
    "results"
   ]
  },
  {
   "cell_type": "markdown",
   "id": "29755ba5",
   "metadata": {},
   "source": [
    "Посмотрим теперь на распределение фильмов по странам, выведем только те страны, которые встречаются больше 2 раз."
   ]
  },
  {
   "cell_type": "code",
   "execution_count": 24,
   "id": "c8c32391",
   "metadata": {},
   "outputs": [],
   "source": [
    "cur.execute(\"\"\"SELECT countries.name, count(*) number\n",
    "FROM project.film2country\n",
    "JOIN project.countries ON film2country.id_country=countries.id_country\n",
    "JOIN project.films ON film2country.id_film=films.id_film\n",
    "GROUP BY countries.name\n",
    "HAVING number > 2\n",
    "ORDER BY number DESC;\n",
    "\"\"\")\n",
    "data=cur.fetchall()"
   ]
  },
  {
   "cell_type": "code",
   "execution_count": 25,
   "id": "7ae590d5",
   "metadata": {},
   "outputs": [
    {
     "data": {
      "text/html": [
       "<div>\n",
       "<style scoped>\n",
       "    .dataframe tbody tr th:only-of-type {\n",
       "        vertical-align: middle;\n",
       "    }\n",
       "\n",
       "    .dataframe tbody tr th {\n",
       "        vertical-align: top;\n",
       "    }\n",
       "\n",
       "    .dataframe thead th {\n",
       "        text-align: right;\n",
       "    }\n",
       "</style>\n",
       "<table border=\"1\" class=\"dataframe\">\n",
       "  <thead>\n",
       "    <tr style=\"text-align: right;\">\n",
       "      <th></th>\n",
       "      <th>name</th>\n",
       "      <th>number</th>\n",
       "    </tr>\n",
       "  </thead>\n",
       "  <tbody>\n",
       "    <tr>\n",
       "      <th>0</th>\n",
       "      <td>США</td>\n",
       "      <td>18</td>\n",
       "    </tr>\n",
       "    <tr>\n",
       "      <th>1</th>\n",
       "      <td>Германия</td>\n",
       "      <td>9</td>\n",
       "    </tr>\n",
       "    <tr>\n",
       "      <th>2</th>\n",
       "      <td>Франция</td>\n",
       "      <td>6</td>\n",
       "    </tr>\n",
       "    <tr>\n",
       "      <th>3</th>\n",
       "      <td>Великобритания</td>\n",
       "      <td>5</td>\n",
       "    </tr>\n",
       "    <tr>\n",
       "      <th>4</th>\n",
       "      <td>Швеция</td>\n",
       "      <td>3</td>\n",
       "    </tr>\n",
       "  </tbody>\n",
       "</table>\n",
       "</div>"
      ],
      "text/plain": [
       "             name number\n",
       "0             США     18\n",
       "1        Германия      9\n",
       "2         Франция      6\n",
       "3  Великобритания      5\n",
       "4          Швеция      3"
      ]
     },
     "execution_count": 25,
     "metadata": {},
     "output_type": "execute_result"
    }
   ],
   "source": [
    "results = pd.DataFrame(columns=list(data[0].keys()))\n",
    "results = results.append(data[0:], ignore_index=True)\n",
    "results"
   ]
  },
  {
   "cell_type": "markdown",
   "id": "94c13d47",
   "metadata": {},
   "source": [
    "Теперь мы хотим посмотреть только на фильмы из США. Выведем режиссеров, отсортируем по убыванию рейтинга."
   ]
  },
  {
   "cell_type": "code",
   "execution_count": 40,
   "id": "05151a63",
   "metadata": {},
   "outputs": [],
   "source": [
    "cur.execute(\"\"\"SELECT directors.name director, films.name, year, description, rating \n",
    "FROM project.director2film\n",
    "JOIN project.directors ON director2film.id_director=directors.id_director\n",
    "JOIN project.films ON director2film.id_film=films.id_film\n",
    "WHERE films.id_film in (SELECT films.id_film\n",
    "FROM project.film2country\n",
    "JOIN project.countries ON film2country.id_country=countries.id_country\n",
    "JOIN project.films ON film2country.id_film=films.id_film\n",
    "WHERE countries.name = 'США')\n",
    "ORDER BY rating DESC;\"\"\")\n",
    "data=cur.fetchall()"
   ]
  },
  {
   "cell_type": "code",
   "execution_count": 41,
   "id": "255d2021",
   "metadata": {},
   "outputs": [
    {
     "data": {
      "text/html": [
       "<div>\n",
       "<style scoped>\n",
       "    .dataframe tbody tr th:only-of-type {\n",
       "        vertical-align: middle;\n",
       "    }\n",
       "\n",
       "    .dataframe tbody tr th {\n",
       "        vertical-align: top;\n",
       "    }\n",
       "\n",
       "    .dataframe thead th {\n",
       "        text-align: right;\n",
       "    }\n",
       "</style>\n",
       "<table border=\"1\" class=\"dataframe\">\n",
       "  <thead>\n",
       "    <tr style=\"text-align: right;\">\n",
       "      <th></th>\n",
       "      <th>director</th>\n",
       "      <th>name</th>\n",
       "      <th>year</th>\n",
       "      <th>description</th>\n",
       "      <th>rating</th>\n",
       "    </tr>\n",
       "  </thead>\n",
       "  <tbody>\n",
       "    <tr>\n",
       "      <th>0</th>\n",
       "      <td>Квентин Тарантино</td>\n",
       "      <td>Криминальное чтиво</td>\n",
       "      <td>1994</td>\n",
       "      <td>Двое бандитов Винсент Вега и Джулс Винфилд вед...</td>\n",
       "      <td>8.9</td>\n",
       "    </tr>\n",
       "    <tr>\n",
       "      <th>1</th>\n",
       "      <td>Роберт Земекис</td>\n",
       "      <td>Форрест Гамп</td>\n",
       "      <td>1994</td>\n",
       "      <td>Сидя на автобусной остановке, Форрест Гамп — н...</td>\n",
       "      <td>8.8</td>\n",
       "    </tr>\n",
       "    <tr>\n",
       "      <th>2</th>\n",
       "      <td>Альфред Хичкок</td>\n",
       "      <td>Психо</td>\n",
       "      <td>1960</td>\n",
       "      <td>Мэрион Крэйн недовольна романом с разведенным ...</td>\n",
       "      <td>8.5</td>\n",
       "    </tr>\n",
       "    <tr>\n",
       "      <th>3</th>\n",
       "      <td>Сэм Мендес</td>\n",
       "      <td>Красота по-американски</td>\n",
       "      <td>1999</td>\n",
       "      <td>Лестер Бернэм переживает кризис среднего возра...</td>\n",
       "      <td>8.3</td>\n",
       "    </tr>\n",
       "    <tr>\n",
       "      <th>4</th>\n",
       "      <td>Уэс Андерсон</td>\n",
       "      <td>Отель «Гранд Будапешт»</td>\n",
       "      <td>2014</td>\n",
       "      <td>Фильм рассказывает об увлекательных приключени...</td>\n",
       "      <td>8.1</td>\n",
       "    </tr>\n",
       "    <tr>\n",
       "      <th>5</th>\n",
       "      <td>Вим Вендерс</td>\n",
       "      <td>Париж, Техас</td>\n",
       "      <td>1984</td>\n",
       "      <td>Идущий ниоткуда Трэвис знает, что у него есть ...</td>\n",
       "      <td>8.1</td>\n",
       "    </tr>\n",
       "    <tr>\n",
       "      <th>6</th>\n",
       "      <td>Ричард Келли</td>\n",
       "      <td>Донни Дарко</td>\n",
       "      <td>2001</td>\n",
       "      <td>Донни Дарко — обычный старшеклассник, живет с ...</td>\n",
       "      <td>8.0</td>\n",
       "    </tr>\n",
       "    <tr>\n",
       "      <th>7</th>\n",
       "      <td>Уэс Андерсон</td>\n",
       "      <td>Остров собак</td>\n",
       "      <td>2018</td>\n",
       "      <td>История 12-летнего мальчика Атари Кобаяси, опе...</td>\n",
       "      <td>7.8</td>\n",
       "    </tr>\n",
       "    <tr>\n",
       "      <th>8</th>\n",
       "      <td>Уэс Андерсон</td>\n",
       "      <td>Семейка Тененбаум</td>\n",
       "      <td>2001</td>\n",
       "      <td>Все члены семьи Тененбаум обладают уникальными...</td>\n",
       "      <td>7.6</td>\n",
       "    </tr>\n",
       "    <tr>\n",
       "      <th>9</th>\n",
       "      <td>Уэс Андерсон</td>\n",
       "      <td>Французский вестник. Приложение к газете «Либе...</td>\n",
       "      <td>2021</td>\n",
       "      <td>Собрание удивительных историй, опубликованных ...</td>\n",
       "      <td>7.5</td>\n",
       "    </tr>\n",
       "    <tr>\n",
       "      <th>10</th>\n",
       "      <td>Гильермо дель Торо</td>\n",
       "      <td>Форма воды</td>\n",
       "      <td>2017</td>\n",
       "      <td>1960-е годы. Немая девушка Элайза работает убо...</td>\n",
       "      <td>7.3</td>\n",
       "    </tr>\n",
       "    <tr>\n",
       "      <th>11</th>\n",
       "      <td>Джон Мэйбери</td>\n",
       "      <td>Пиджак</td>\n",
       "      <td>2004</td>\n",
       "      <td>Ветеран войны в Персидском заливе Джек Старкс ...</td>\n",
       "      <td>7.1</td>\n",
       "    </tr>\n",
       "    <tr>\n",
       "      <th>12</th>\n",
       "      <td>Лана Вачовски</td>\n",
       "      <td>Матрица: Воскрешение</td>\n",
       "      <td>2021</td>\n",
       "      <td>В двух реальностях Нео снова придется выбирать...</td>\n",
       "      <td>7.0</td>\n",
       "    </tr>\n",
       "    <tr>\n",
       "      <th>13</th>\n",
       "      <td>Дэвид Линч</td>\n",
       "      <td>Кролики</td>\n",
       "      <td>2002</td>\n",
       "      <td>Фильм, состоящий из восьми эпизодов о повседне...</td>\n",
       "      <td>7.0</td>\n",
       "    </tr>\n",
       "    <tr>\n",
       "      <th>14</th>\n",
       "      <td>Пабло Ларраин</td>\n",
       "      <td>Спенсер</td>\n",
       "      <td>2021</td>\n",
       "      <td>Брак принцессы Дианы и принца Чарльза трещит п...</td>\n",
       "      <td>6.9</td>\n",
       "    </tr>\n",
       "    <tr>\n",
       "      <th>15</th>\n",
       "      <td>Ридли Скотт</td>\n",
       "      <td>Дом Gucci</td>\n",
       "      <td>2021</td>\n",
       "      <td>Фамилия Гуччи звучала так сладко, так соблазни...</td>\n",
       "      <td>6.9</td>\n",
       "    </tr>\n",
       "    <tr>\n",
       "      <th>16</th>\n",
       "      <td>Дэвид Линч</td>\n",
       "      <td>Внутренняя империя</td>\n",
       "      <td>2006</td>\n",
       "      <td>Актеры Никки Грейс и Девон Берк приступают к с...</td>\n",
       "      <td>6.9</td>\n",
       "    </tr>\n",
       "    <tr>\n",
       "      <th>17</th>\n",
       "      <td>Ридли Скотт</td>\n",
       "      <td>Все деньги мира</td>\n",
       "      <td>2017</td>\n",
       "      <td>История одного из самых громких скандалов XX в...</td>\n",
       "      <td>6.8</td>\n",
       "    </tr>\n",
       "  </tbody>\n",
       "</table>\n",
       "</div>"
      ],
      "text/plain": [
       "              director                                               name  \\\n",
       "0    Квентин Тарантино                                 Криминальное чтиво   \n",
       "1       Роберт Земекис                                       Форрест Гамп   \n",
       "2       Альфред Хичкок                                              Психо   \n",
       "3           Сэм Мендес                            Красота по-американски    \n",
       "4         Уэс Андерсон                            Отель «Гранд Будапешт»    \n",
       "5          Вим Вендерс                                       Париж, Техас   \n",
       "6         Ричард Келли                                        Донни Дарко   \n",
       "7         Уэс Андерсон                                       Остров собак   \n",
       "8         Уэс Андерсон                                  Семейка Тененбаум   \n",
       "9         Уэс Андерсон  Французский вестник. Приложение к газете «Либе...   \n",
       "10  Гильермо дель Торо                                         Форма воды   \n",
       "11        Джон Мэйбери                                             Пиджак   \n",
       "12       Лана Вачовски                               Матрица: Воскрешение   \n",
       "13          Дэвид Линч                                            Кролики   \n",
       "14       Пабло Ларраин                                            Спенсер   \n",
       "15         Ридли Скотт                                          Дом Gucci   \n",
       "16          Дэвид Линч                                 Внутренняя империя   \n",
       "17         Ридли Скотт                                    Все деньги мира   \n",
       "\n",
       "    year                                        description  rating  \n",
       "0   1994  Двое бандитов Винсент Вега и Джулс Винфилд вед...     8.9  \n",
       "1   1994  Сидя на автобусной остановке, Форрест Гамп — н...     8.8  \n",
       "2   1960  Мэрион Крэйн недовольна романом с разведенным ...     8.5  \n",
       "3   1999  Лестер Бернэм переживает кризис среднего возра...     8.3  \n",
       "4   2014  Фильм рассказывает об увлекательных приключени...     8.1  \n",
       "5   1984  Идущий ниоткуда Трэвис знает, что у него есть ...     8.1  \n",
       "6   2001  Донни Дарко — обычный старшеклассник, живет с ...     8.0  \n",
       "7   2018  История 12-летнего мальчика Атари Кобаяси, опе...     7.8  \n",
       "8   2001  Все члены семьи Тененбаум обладают уникальными...     7.6  \n",
       "9   2021  Собрание удивительных историй, опубликованных ...     7.5  \n",
       "10  2017  1960-е годы. Немая девушка Элайза работает убо...     7.3  \n",
       "11  2004  Ветеран войны в Персидском заливе Джек Старкс ...     7.1  \n",
       "12  2021  В двух реальностях Нео снова придется выбирать...     7.0  \n",
       "13  2002  Фильм, состоящий из восьми эпизодов о повседне...     7.0  \n",
       "14  2021  Брак принцессы Дианы и принца Чарльза трещит п...     6.9  \n",
       "15  2021  Фамилия Гуччи звучала так сладко, так соблазни...     6.9  \n",
       "16  2006  Актеры Никки Грейс и Девон Берк приступают к с...     6.9  \n",
       "17  2017  История одного из самых громких скандалов XX в...     6.8  "
      ]
     },
     "execution_count": 41,
     "metadata": {},
     "output_type": "execute_result"
    }
   ],
   "source": [
    "results = pd.DataFrame(columns=list(data[0].keys()))\n",
    "results = results.append(data[0:], ignore_index=True)\n",
    "results"
   ]
  },
  {
   "cell_type": "code",
   "execution_count": null,
   "id": "c6bf0af0",
   "metadata": {},
   "outputs": [],
   "source": []
  }
 ],
 "metadata": {
  "kernelspec": {
   "display_name": "Python 3 (ipykernel)",
   "language": "python",
   "name": "python3"
  },
  "language_info": {
   "codemirror_mode": {
    "name": "ipython",
    "version": 3
   },
   "file_extension": ".py",
   "mimetype": "text/x-python",
   "name": "python",
   "nbconvert_exporter": "python",
   "pygments_lexer": "ipython3",
   "version": "3.9.9"
  }
 },
 "nbformat": 4,
 "nbformat_minor": 5
}
